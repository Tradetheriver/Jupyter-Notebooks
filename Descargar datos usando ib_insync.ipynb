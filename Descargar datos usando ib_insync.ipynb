{
 "cells": [
  {
   "cell_type": "markdown",
   "metadata": {},
   "source": [
    "Importamos los módulos necesarios."
   ]
  },
  {
   "cell_type": "code",
   "execution_count": null,
   "metadata": {
    "ExecuteTime": {
     "end_time": "2019-03-07T10:11:01.707151Z",
     "start_time": "2019-03-07T10:11:01.280326Z"
    }
   },
   "outputs": [],
   "source": [
    "import datetime\n",
    "from ib_insync import IB, Contract, util\n",
    "import pandas as pd\n",
    "import time"
   ]
  },
  {
   "cell_type": "markdown",
   "metadata": {},
   "source": [
    "Conectamos con IB, cambiar el puerto 4007 por el que tengas configurado en TWS."
   ]
  },
  {
   "cell_type": "code",
   "execution_count": 1,
   "metadata": {
    "ExecuteTime": {
     "end_time": "2019-03-07T10:11:01.707151Z",
     "start_time": "2019-03-07T10:11:01.280326Z"
    }
   },
   "outputs": [
    {
     "data": {
      "text/plain": [
       "<IB connected to 127.0.0.1:4003 clientId=1>"
      ]
     },
     "execution_count": 1,
     "metadata": {},
     "output_type": "execute_result"
    }
   ],
   "source": [
    "util.startLoop()\n",
    "ib = IB()\n",
    "ib.connect('127.0.0.1', 4007, clientId=1)"
   ]
  },
  {
   "cell_type": "markdown",
   "metadata": {},
   "source": [
    "Definimos la función para descarga de datos desde Interactive Brokers por iteración, recibe un contrato y los parametros de la descarga y devuelve un Pandas DataFrame.\n",
    "\n",
    "La función hace una parada de 5 segundos entre cada bloque de descarga para evitar superar los limites de llamadas de la API de IB. Por lo que es aconsejable ajustar el valor de **duration** lo mas alto que permita la API para cada **barSize**.\n",
    "\n",
    "La función por seguridad va guardando los datos en un archivo csv en el mismo directorio que el Notebook. Así en caso de error o corte de conexión a mitad del proceso podemos rescatar los datos ya descargados."
   ]
  },
  {
   "cell_type": "code",
   "execution_count": 15,
   "metadata": {
    "ExecuteTime": {
     "end_time": "2019-03-07T10:21:39.705094Z",
     "start_time": "2019-03-07T10:21:39.699111Z"
    },
    "scrolled": true
   },
   "outputs": [],
   "source": [
    "def ib_data_download(contract, start_time=None, end_time=None, duration='5 D',\n",
    "                     barSize='1 min', whatToShow='MIDPOINT', useRTH=True,\n",
    "                     formatDate=1, save=True):\n",
    "\n",
    "    if end_time:\n",
    "        end_time_p = datetime.datetime.strptime(end_time, '%Y%m%d %H:%M:%S')\n",
    "    else:\n",
    "        end_time = datetime.datetime.now()\n",
    "    if start_time:\n",
    "        start_time = datetime.datetime.strptime(start_time, '%Y%m%d %H:%M:%S')\n",
    "    else:\n",
    "        start_time = end_time - datetime.timedelta(days=30)\n",
    "\n",
    "    tiempo = ''\n",
    "    stamp = int(time.time())\n",
    "    data = pd.DataFrame()\n",
    "    print('Descargado hasta :')\n",
    "\n",
    "    while end_time > start_time:\n",
    "        contract = contract\n",
    "        bars = ib.reqHistoricalData(\n",
    "            contract,\n",
    "            endDateTime=tiempo,\n",
    "            durationStr=duration,\n",
    "            barSizeSetting=barSize,\n",
    "            whatToShow=whatToShow,\n",
    "            useRTH=useRTH,\n",
    "            formatDate=formatDate,\n",
    "            keepUpToDate=False)\n",
    "\n",
    "        df = util.df(bars)\n",
    "        end_time = df.iloc[0].date\n",
    "        tiempo = end_time.strftime('%Y%m%d %H:%M:%S')\n",
    "        print(f'   {tiempo}')\n",
    "        data = data.append(df)\n",
    "        if save:\n",
    "            df.to_csv(f'Downloading {contract.symbol} {barSize} - {stamp}.csv')\n",
    "        time.sleep(5)\n",
    "\n",
    "    data = data.set_index('date').sort_index()[start_time:]\n",
    "    return data"
   ]
  },
  {
   "cell_type": "markdown",
   "metadata": {},
   "source": [
    "Descargamos como ejemplo el futuro continuo del emini SP.\n",
    "Para ello definimos primero el contrato.\n",
    "\n",
    "Solo descargará si estas suscrito a estos datos."
   ]
  },
  {
   "cell_type": "code",
   "execution_count": 16,
   "metadata": {
    "ExecuteTime": {
     "end_time": "2019-03-07T10:21:42.135977Z",
     "start_time": "2019-03-07T10:21:42.133655Z"
    }
   },
   "outputs": [],
   "source": [
    "contract = Contract(symbol='ES', secType='CONTFUT', exchange='GLOBEX',\n",
    "                           includeExpired=True)"
   ]
  },
  {
   "cell_type": "markdown",
   "metadata": {},
   "source": [
    "Asignamos a una variable el retorno de la función, a la que pasamos el contrato, y que queremos ver la información de los Trades.\n",
    "\n",
    "Como no le pasamos valor para los parametro start_time ni end_time, descargará los últimos 30 días."
   ]
  },
  {
   "cell_type": "code",
   "execution_count": 17,
   "metadata": {
    "ExecuteTime": {
     "end_time": "2019-03-07T10:22:12.944307Z",
     "start_time": "2019-03-07T10:21:43.712129Z"
    }
   },
   "outputs": [
    {
     "name": "stdout",
     "output_type": "stream",
     "text": [
      "Descargado hasta :\n",
      "   20190228 15:30:00\n",
      "   20190221 15:30:00\n",
      "   20190213 15:30:00\n",
      "   20190206 15:30:00\n",
      "   20190130 15:30:00\n"
     ]
    }
   ],
   "source": [
    "df = ib_data_download(contract, whatToShow='TRADES')"
   ]
  },
  {
   "cell_type": "markdown",
   "metadata": {},
   "source": [
    "Veamos el resultado."
   ]
  },
  {
   "cell_type": "code",
   "execution_count": 18,
   "metadata": {
    "ExecuteTime": {
     "end_time": "2019-03-07T10:23:18.334402Z",
     "start_time": "2019-03-07T10:23:18.325310Z"
    }
   },
   "outputs": [
    {
     "data": {
      "text/html": [
       "<div>\n",
       "<style scoped>\n",
       "    .dataframe tbody tr th:only-of-type {\n",
       "        vertical-align: middle;\n",
       "    }\n",
       "\n",
       "    .dataframe tbody tr th {\n",
       "        vertical-align: top;\n",
       "    }\n",
       "\n",
       "    .dataframe thead th {\n",
       "        text-align: right;\n",
       "    }\n",
       "</style>\n",
       "<table border=\"1\" class=\"dataframe\">\n",
       "  <thead>\n",
       "    <tr style=\"text-align: right;\">\n",
       "      <th></th>\n",
       "      <th>open</th>\n",
       "      <th>high</th>\n",
       "      <th>low</th>\n",
       "      <th>close</th>\n",
       "      <th>volume</th>\n",
       "      <th>barCount</th>\n",
       "      <th>average</th>\n",
       "    </tr>\n",
       "    <tr>\n",
       "      <th>date</th>\n",
       "      <th></th>\n",
       "      <th></th>\n",
       "      <th></th>\n",
       "      <th></th>\n",
       "      <th></th>\n",
       "      <th></th>\n",
       "      <th></th>\n",
       "    </tr>\n",
       "  </thead>\n",
       "  <tbody>\n",
       "    <tr>\n",
       "      <th>2019-02-05 15:30:00</th>\n",
       "      <td>2728.00</td>\n",
       "      <td>2728.25</td>\n",
       "      <td>2726.75</td>\n",
       "      <td>2728.00</td>\n",
       "      <td>12299</td>\n",
       "      <td>1871</td>\n",
       "      <td>2727.350</td>\n",
       "    </tr>\n",
       "    <tr>\n",
       "      <th>2019-02-05 15:31:00</th>\n",
       "      <td>2728.25</td>\n",
       "      <td>2730.25</td>\n",
       "      <td>2727.75</td>\n",
       "      <td>2730.00</td>\n",
       "      <td>9752</td>\n",
       "      <td>1840</td>\n",
       "      <td>2729.100</td>\n",
       "    </tr>\n",
       "    <tr>\n",
       "      <th>2019-02-05 15:32:00</th>\n",
       "      <td>2730.25</td>\n",
       "      <td>2730.50</td>\n",
       "      <td>2728.25</td>\n",
       "      <td>2728.75</td>\n",
       "      <td>11563</td>\n",
       "      <td>1783</td>\n",
       "      <td>2729.500</td>\n",
       "    </tr>\n",
       "    <tr>\n",
       "      <th>2019-02-05 15:33:00</th>\n",
       "      <td>2728.50</td>\n",
       "      <td>2729.50</td>\n",
       "      <td>2728.25</td>\n",
       "      <td>2729.50</td>\n",
       "      <td>7840</td>\n",
       "      <td>1170</td>\n",
       "      <td>2728.875</td>\n",
       "    </tr>\n",
       "    <tr>\n",
       "      <th>2019-02-05 15:34:00</th>\n",
       "      <td>2729.50</td>\n",
       "      <td>2729.75</td>\n",
       "      <td>2728.50</td>\n",
       "      <td>2729.25</td>\n",
       "      <td>8808</td>\n",
       "      <td>1324</td>\n",
       "      <td>2729.075</td>\n",
       "    </tr>\n",
       "  </tbody>\n",
       "</table>\n",
       "</div>"
      ],
      "text/plain": [
       "                        open     high      low    close  volume  barCount  \\\n",
       "date                                                                        \n",
       "2019-02-05 15:30:00  2728.00  2728.25  2726.75  2728.00   12299      1871   \n",
       "2019-02-05 15:31:00  2728.25  2730.25  2727.75  2730.00    9752      1840   \n",
       "2019-02-05 15:32:00  2730.25  2730.50  2728.25  2728.75   11563      1783   \n",
       "2019-02-05 15:33:00  2728.50  2729.50  2728.25  2729.50    7840      1170   \n",
       "2019-02-05 15:34:00  2729.50  2729.75  2728.50  2729.25    8808      1324   \n",
       "\n",
       "                      average  \n",
       "date                           \n",
       "2019-02-05 15:30:00  2727.350  \n",
       "2019-02-05 15:31:00  2729.100  \n",
       "2019-02-05 15:32:00  2729.500  \n",
       "2019-02-05 15:33:00  2728.875  \n",
       "2019-02-05 15:34:00  2729.075  "
      ]
     },
     "execution_count": 18,
     "metadata": {},
     "output_type": "execute_result"
    }
   ],
   "source": [
    "df.head()"
   ]
  },
  {
   "cell_type": "markdown",
   "metadata": {},
   "source": [
    "Probemos ahora con el Euro/Dolar usando barras de 15 mínutos y descargando por meses, desde inicio del 2018, hasta el momento actual. \n",
    "\n",
    "Para este contrato no es necesaria suscripción."
   ]
  },
  {
   "cell_type": "code",
   "execution_count": 19,
   "metadata": {
    "ExecuteTime": {
     "end_time": "2019-03-07T10:25:01.279501Z",
     "start_time": "2019-03-07T10:23:37.547529Z"
    },
    "scrolled": true
   },
   "outputs": [
    {
     "name": "stdout",
     "output_type": "stream",
     "text": [
      "Descargado hasta :\n",
      "   20190205 23:15:00\n",
      "   20190106 23:15:00\n",
      "   20181205 23:15:00\n",
      "   20181105 23:15:00\n",
      "   20181007 23:15:00\n",
      "   20180905 23:15:00\n",
      "   20180806 23:15:00\n",
      "   20180708 23:15:00\n",
      "   20180606 23:15:00\n",
      "   20180507 23:15:00\n",
      "   20180408 23:15:00\n",
      "   20180307 23:15:00\n",
      "   20180205 23:15:00\n",
      "   20180107 23:15:00\n",
      "   20171206 23:15:00\n"
     ]
    }
   ],
   "source": [
    "from ib_insync import Forex\n",
    "\n",
    "c_eurusd = Forex('EURUSD')\n",
    "eurusd = ib_data_download(c_eurusd, start_time='20180101 00:00:00',\n",
    "                          duration='1 M', barSize='15 mins')"
   ]
  },
  {
   "cell_type": "markdown",
   "metadata": {},
   "source": [
    "Combrobamos el resultado."
   ]
  },
  {
   "cell_type": "code",
   "execution_count": 20,
   "metadata": {
    "ExecuteTime": {
     "end_time": "2019-03-07T10:25:04.978577Z",
     "start_time": "2019-03-07T10:25:04.968901Z"
    }
   },
   "outputs": [
    {
     "data": {
      "text/html": [
       "<div>\n",
       "<style scoped>\n",
       "    .dataframe tbody tr th:only-of-type {\n",
       "        vertical-align: middle;\n",
       "    }\n",
       "\n",
       "    .dataframe tbody tr th {\n",
       "        vertical-align: top;\n",
       "    }\n",
       "\n",
       "    .dataframe thead th {\n",
       "        text-align: right;\n",
       "    }\n",
       "</style>\n",
       "<table border=\"1\" class=\"dataframe\">\n",
       "  <thead>\n",
       "    <tr style=\"text-align: right;\">\n",
       "      <th></th>\n",
       "      <th>open</th>\n",
       "      <th>high</th>\n",
       "      <th>low</th>\n",
       "      <th>close</th>\n",
       "      <th>volume</th>\n",
       "      <th>barCount</th>\n",
       "      <th>average</th>\n",
       "    </tr>\n",
       "    <tr>\n",
       "      <th>date</th>\n",
       "      <th></th>\n",
       "      <th></th>\n",
       "      <th></th>\n",
       "      <th></th>\n",
       "      <th></th>\n",
       "      <th></th>\n",
       "      <th></th>\n",
       "    </tr>\n",
       "  </thead>\n",
       "  <tbody>\n",
       "    <tr>\n",
       "      <th>2018-01-02 01:00:00</th>\n",
       "      <td>1.201060</td>\n",
       "      <td>1.201285</td>\n",
       "      <td>1.200930</td>\n",
       "      <td>1.201285</td>\n",
       "      <td>-1</td>\n",
       "      <td>-1</td>\n",
       "      <td>-1.0</td>\n",
       "    </tr>\n",
       "    <tr>\n",
       "      <th>2018-01-02 01:15:00</th>\n",
       "      <td>1.201285</td>\n",
       "      <td>1.201780</td>\n",
       "      <td>1.201280</td>\n",
       "      <td>1.201465</td>\n",
       "      <td>-1</td>\n",
       "      <td>-1</td>\n",
       "      <td>-1.0</td>\n",
       "    </tr>\n",
       "    <tr>\n",
       "      <th>2018-01-02 01:30:00</th>\n",
       "      <td>1.201465</td>\n",
       "      <td>1.201500</td>\n",
       "      <td>1.201245</td>\n",
       "      <td>1.201310</td>\n",
       "      <td>-1</td>\n",
       "      <td>-1</td>\n",
       "      <td>-1.0</td>\n",
       "    </tr>\n",
       "    <tr>\n",
       "      <th>2018-01-02 01:45:00</th>\n",
       "      <td>1.201310</td>\n",
       "      <td>1.201660</td>\n",
       "      <td>1.201130</td>\n",
       "      <td>1.201610</td>\n",
       "      <td>-1</td>\n",
       "      <td>-1</td>\n",
       "      <td>-1.0</td>\n",
       "    </tr>\n",
       "    <tr>\n",
       "      <th>2018-01-02 02:00:00</th>\n",
       "      <td>1.201610</td>\n",
       "      <td>1.202305</td>\n",
       "      <td>1.201585</td>\n",
       "      <td>1.202200</td>\n",
       "      <td>-1</td>\n",
       "      <td>-1</td>\n",
       "      <td>-1.0</td>\n",
       "    </tr>\n",
       "  </tbody>\n",
       "</table>\n",
       "</div>"
      ],
      "text/plain": [
       "                         open      high       low     close  volume  barCount  \\\n",
       "date                                                                            \n",
       "2018-01-02 01:00:00  1.201060  1.201285  1.200930  1.201285      -1        -1   \n",
       "2018-01-02 01:15:00  1.201285  1.201780  1.201280  1.201465      -1        -1   \n",
       "2018-01-02 01:30:00  1.201465  1.201500  1.201245  1.201310      -1        -1   \n",
       "2018-01-02 01:45:00  1.201310  1.201660  1.201130  1.201610      -1        -1   \n",
       "2018-01-02 02:00:00  1.201610  1.202305  1.201585  1.202200      -1        -1   \n",
       "\n",
       "                     average  \n",
       "date                          \n",
       "2018-01-02 01:00:00     -1.0  \n",
       "2018-01-02 01:15:00     -1.0  \n",
       "2018-01-02 01:30:00     -1.0  \n",
       "2018-01-02 01:45:00     -1.0  \n",
       "2018-01-02 02:00:00     -1.0  "
      ]
     },
     "execution_count": 20,
     "metadata": {},
     "output_type": "execute_result"
    }
   ],
   "source": [
    "eurusd.head()"
   ]
  }
 ],
 "metadata": {
  "anaconda-cloud": {},
  "hide_input": false,
  "kernelspec": {
   "display_name": "Python [conda env:mypython3]",
   "language": "python",
   "name": "conda-env-mypython3-py"
  },
  "toc": {
   "base_numbering": 1,
   "nav_menu": {},
   "number_sections": true,
   "sideBar": true,
   "skip_h1_title": false,
   "title_cell": "Tabla de Contenido",
   "title_sidebar": "Contenidos",
   "toc_cell": false,
   "toc_position": {},
   "toc_section_display": true,
   "toc_window_display": false
  },
  "varInspector": {
   "cols": {
    "lenName": 16,
    "lenType": 16,
    "lenVar": 40
   },
   "kernels_config": {
    "python": {
     "delete_cmd_postfix": "",
     "delete_cmd_prefix": "del ",
     "library": "var_list.py",
     "varRefreshCmd": "print(var_dic_list())"
    },
    "r": {
     "delete_cmd_postfix": ") ",
     "delete_cmd_prefix": "rm(",
     "library": "var_list.r",
     "varRefreshCmd": "cat(var_dic_list()) "
    }
   },
   "types_to_exclude": [
    "module",
    "function",
    "builtin_function_or_method",
    "instance",
    "_Feature"
   ],
   "window_display": false
  }
 },
 "nbformat": 4,
 "nbformat_minor": 2
}
